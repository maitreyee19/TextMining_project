{
 "cells": [
  {
   "cell_type": "code",
   "execution_count": 13,
   "metadata": {},
   "outputs": [],
   "source": [
    "import pandas as pd\n",
    "#Scraping With GetOldTweets3\n",
    "#!pip install GetOldTweets3\n",
    "import GetOldTweets3 as got\n",
    "\n",
    "# Trying date \n",
    "#import datetime as dt\n",
    "#start_date = dt.datetime(2020, 01,01)\n",
    "#end_date = dt.datetime(2020, 01,31)\n",
    "#total_days = (end_date - start_date).days + 7 (7 days in week)\n",
    "#for day_number in range(total_days):\n",
    "#    current_date = (start_date + dt.timedelta(days = day_number)).date()\n",
    "\n",
    "keyword = \"stockmarket\"\n",
    "oldest_date = \"2020-01-01\"    \n",
    "newest_date = \"2020-01-08\"\n",
    "number_tweets = 800"
   ]
  },
  {
   "cell_type": "code",
   "execution_count": 42,
   "metadata": {},
   "outputs": [],
   "source": [
    "def get_stock_tweet(old_date,new_date):\n",
    "    keyword = \"stockmarket\"\n",
    "    number_tweets = 500\n",
    "    tweet_criteria = got.manager.TweetCriteria().setQuerySearch(keyword)\\\n",
    "                                            .setSince(old_date)\\\n",
    "                                            .setUntil(new_date)\\\n",
    "                                            .setTopTweets(True)\\\n",
    "                                            .setMaxTweets(1000)\n",
    "    return(got.manager.TweetManager.getTweets(tweet_criteria))"
   ]
  },
  {
   "cell_type": "code",
   "execution_count": 49,
   "metadata": {},
   "outputs": [
    {
     "name": "stdout",
     "output_type": "stream",
     "text": [
      "start_date: 2020-03-31 00:00:00  end_date 2020-03-24 00:00:00\n",
      "start_date: 2020-03-24 00:00:00  end_date 2020-03-17 00:00:00\n",
      "start_date: 2020-03-17 00:00:00  end_date 2020-03-10 00:00:00\n",
      "start_date: 2020-03-10 00:00:00  end_date 2020-03-03 00:00:00\n",
      "start_date: 2020-03-03 00:00:00  end_date 2020-02-25 00:00:00\n",
      "start_date: 2020-02-25 00:00:00  end_date 2020-02-18 00:00:00\n",
      "start_date: 2020-02-18 00:00:00  end_date 2020-02-11 00:00:00\n",
      "start_date: 2020-02-11 00:00:00  end_date 2020-02-04 00:00:00\n",
      "start_date: 2020-02-04 00:00:00  end_date 2020-01-28 00:00:00\n",
      "start_date: 2020-01-28 00:00:00  end_date 2020-01-21 00:00:00\n",
      "start_date: 2020-01-21 00:00:00  end_date 2020-01-14 00:00:00\n",
      "start_date: 2020-01-14 00:00:00  end_date 2020-01-07 00:00:00\n",
      "start_date: 2020-01-07 00:00:00  end_date 2019-12-31 00:00:00\n"
     ]
    }
   ],
   "source": [
    "import datetime as dt\n",
    "#start_date = dt.datetime(2020, 01,01)\n",
    "start_date_str = \"03/31/20\"\n",
    "end_date_str='01/01/20'\n",
    "start_date = dt.datetime.strptime(start_date_str, \"%m/%d/%y\")\n",
    "end_date=dt.datetime.strptime(end_date_str, \"%m/%d/%y\")\n",
    "all_tweets =[]\n",
    "while start_date > end_date:\n",
    "    tmp_date = start_date - dt.timedelta(days=7)\n",
    "    print(\"start_date:\",start_date,\" end_date\",tmp_date)\n",
    "    \n",
    "    all_tweets.extend(get_stock_tweet(tmp_date.strftime(\"%Y-%m-%d\"),start_date.strftime(\"%Y-%m-%d\")))\n",
    "    start_date=tmp_date"
   ]
  },
  {
   "cell_type": "code",
   "execution_count": 50,
   "metadata": {},
   "outputs": [],
   "source": [
    "tweet_df = pd.DataFrame({'got_criteria':all_tweets})"
   ]
  },
  {
   "cell_type": "code",
   "execution_count": 51,
   "metadata": {},
   "outputs": [],
   "source": [
    "tweet_df[\"tweet_text\"] = tweet_df[\"got_criteria\"].apply(lambda x: x.text)\n",
    "tweet_df[\"tweet_text\"]\n",
    "\n",
    "tweet_df[\"date\"] = tweet_df[\"got_criteria\"].apply(lambda x: x.date)\n",
    "tweet_df[\"date\"]\n",
    "\n",
    "tweet_df[\"hashtags\"] = tweet_df[\"got_criteria\"].apply(lambda x: x.hashtags)\n",
    "tweet_df[\"hashtags\"]\n",
    "\n",
    "tweet_df[\"link\"] = tweet_df[\"got_criteria\"].apply(lambda x: x.permalink)\n",
    "#tweet_df[\"link\"]"
   ]
  },
  {
   "cell_type": "code",
   "execution_count": 52,
   "metadata": {},
   "outputs": [],
   "source": [
    "pd.options.display.max_columns\n",
    "#tweet_df\n",
    "\n",
    "\n",
    "from datetime import datetime as dt\n",
    "tweet_df['date'] = tweet_df['date'].dt.normalize()\n",
    "tweet_df['date'] = tweet_df['date'].dt.strftime('%Y-%m-%d')\n",
    "#tweet_df"
   ]
  },
  {
   "cell_type": "code",
   "execution_count": 53,
   "metadata": {},
   "outputs": [
    {
     "name": "stderr",
     "output_type": "stream",
     "text": [
      "C:\\Users\\maitreyee\\Anaconda3\\lib\\site-packages\\xlsxwriter\\worksheet.py:830: UserWarning: Ignoring URL 'https://www.washingtonpost.com/opinions/2020/03/20/lets-get-through-this-pandemic-with-little-trump-possible/%20Keep%20putting%20this%20deranged%20sociopath%20in%20front%20of%20television%20screens%20and%20the%20stock%20market%20will%20evaporate.%20Worse...so%20many%20will%20die.' with link or location/anchor > 255 characters since it exceeds Excel's limit for URLS\n",
      "  force_unicode(url))\n",
      "C:\\Users\\maitreyee\\Anaconda3\\lib\\site-packages\\xlsxwriter\\worksheet.py:830: UserWarning: Ignoring URL 'https://www.youtube.com/watch?v=fiNytfSTvwc%20' with link or location/anchor > 255 characters since it exceeds Excel's limit for URLS\n",
      "  force_unicode(url))\n",
      "C:\\Users\\maitreyee\\Anaconda3\\lib\\site-packages\\xlsxwriter\\worksheet.py:830: UserWarning: Ignoring URL 'https://www.westernjournal.com/cdc-official-helping-spook-trumps-economy-coronavirus-fears-rod-rosensteins-sister/%20You%20know%20the%20CDC%20official%20trying%20to%20help%20the%20left%20destroy%20the%20economy%20and%20stock%20market%20is%20none%20other%20than%20Rod%20Rosenstein's%20sister.%20This%20is%20the%20one%20who%20said%20an%20outbreak%20was%20inevitable%20and%20that%20major%20changes,%20school%20closings%20and%20such%20would%20need%20to%20happen' with link or location/anchor > 255 characters since it exceeds Excel's limit for URLS\n",
      "  force_unicode(url))\n",
      "C:\\Users\\maitreyee\\Anaconda3\\lib\\site-packages\\xlsxwriter\\worksheet.py:830: UserWarning: Ignoring URL 'https://youtu.be/PlDz7C8KdL8%20@stonesour%20HELL%20&amp;%20CO%20CONSEQUENCES%20.%20I%20REFUSE%20TO%20DIE!%20WAKE%20UP!%20STOCK%20MARKET%20%5d666%5b%20.%20HERE%20COMES%20WHAT%20YOU%20ALL%20ASKED%20FOR.%20REMEMBER,%20THE%20ENDING%20IS%20(SIC)%20AND%20WILL%20NOT%20BE%20FOR%20ALL.%20THESE%20PEOPLE%20ARE%20EVIL.%20*+*%20https://twitter.com/MAGAMNCD8/status/1223242383187423232' with link or location/anchor > 255 characters since it exceeds Excel's limit for URLS\n",
      "  force_unicode(url))\n",
      "C:\\Users\\maitreyee\\Anaconda3\\lib\\site-packages\\xlsxwriter\\worksheet.py:830: UserWarning: Ignoring URL 'http://enewspaper.latimes.com/infinity/article_share.aspx?guid=2a61174f-2ef7-46d9-bc15-7369be21b1eb%20The%20economy%20and%20voters%20IMO:%20What%20boom?%20Ppl%20are%20still%20losing%20a%20lot%20of%20homes%20to%20foreclosure.%20Penney’s%20is%20closing%20stores.%20The%20Treasury%20is%20selling%20billions%20in%20gvmt%20securities%20And%20the%20Fed%20is%20buying%20them%20back%20to%20support%20the%20stock%20market.' with link or location/anchor > 255 characters since it exceeds Excel's limit for URLS\n",
      "  force_unicode(url))\n",
      "C:\\Users\\maitreyee\\Anaconda3\\lib\\site-packages\\xlsxwriter\\worksheet.py:830: UserWarning: Ignoring URL 'https://youtu.be/s-t2NB9h9S4%20@Metallica%20S&amp;D%20.%20.%20._...-&lt;-..%20.........%20Water%20Bo-Y%20Or%20(i)%20..%20No%20Matter%20Which%20Way%20Or%20Angle%20You%20Come%20At%20Thi%20One.%20..,All%20Ends%20The%20Same%20..%20%5b666%5d%20Stock%20Market%20/2008:,%20This%20Time%20It%20Will%20Be%20To%20Do%20What..?%20Reset..?%20%5bMSM%5d%20Must%20Fall%20First%20.%20%5bTHEY%5d%20Fell%20*+*%20' with link or location/anchor > 255 characters since it exceeds Excel's limit for URLS\n",
      "  force_unicode(url))\n"
     ]
    }
   ],
   "source": [
    "tweet_df.to_excel(\"..\\\\tweet1.xlsx\") "
   ]
  },
  {
   "cell_type": "code",
   "execution_count": null,
   "metadata": {},
   "outputs": [],
   "source": []
  }
 ],
 "metadata": {
  "kernelspec": {
   "display_name": "Python 3",
   "language": "python",
   "name": "python3"
  },
  "language_info": {
   "codemirror_mode": {
    "name": "ipython",
    "version": 3
   },
   "file_extension": ".py",
   "mimetype": "text/x-python",
   "name": "python",
   "nbconvert_exporter": "python",
   "pygments_lexer": "ipython3",
   "version": "3.6.4"
  }
 },
 "nbformat": 4,
 "nbformat_minor": 2
}
